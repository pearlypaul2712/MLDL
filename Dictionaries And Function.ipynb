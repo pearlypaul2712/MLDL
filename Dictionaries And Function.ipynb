{
 "cells": [
  {
   "cell_type": "markdown",
   "metadata": {},
   "source": [
    "### 1.1 Write a Python Program(with class concepts) to find the area of the triangle using the below formula.\n",
    "                    ### area = (s*(s-a)*(s-b)*(s-c)) ** 0.5\n",
    "### Function to take the length of the sides of triangle from user should be defined in the parent\n",
    "### class and function to calculate the area should be defined in subclass."
   ]
  },
  {
   "cell_type": "code",
   "execution_count": 12,
   "metadata": {},
   "outputs": [
    {
     "name": "stdout",
     "output_type": "stream",
     "text": [
      "4\n",
      "3\n",
      "24\n",
      "2\n",
      "The area of the trianlge is (7.745346429080775e-16+12.649110640673518j)\n"
     ]
    }
   ],
   "source": [
    "def triangle(s,a,b,c):\n",
    "    area=(s*(s-a)*(s-b)*(s-c)) ** 0.5\n",
    "    return area\n",
    "    \n",
    "sides=int(input())\n",
    "a1=int(input())\n",
    "b1=int(input())\n",
    "c1=int(input())\n",
    "\n",
    "Area=triangle(sides,a1,b1,c1)\n",
    "\n",
    "print(f\"The area of the trianlge is {Area}\")\n",
    "\n",
    "\n"
   ]
  },
  {
   "cell_type": "markdown",
   "metadata": {},
   "source": [
    "### 1.2 Write a function filter_long_words() that takes a list of words and an integer n and returns\n",
    "### the list of words that are longer than n."
   ]
  },
  {
   "cell_type": "code",
   "execution_count": 7,
   "metadata": {},
   "outputs": [
    {
     "name": "stdout",
     "output_type": "stream",
     "text": [
      "The words from the list which are larger than threshold 10 are fdsfggfdarerefdfdkgfdkgkfg\n"
     ]
    }
   ],
   "source": [
    "def filter_long_words(words,threshold):\n",
    "    for word in words:\n",
    "        if len(word)>threshold:\n",
    "            print(f\"The words from the list which are larger than threshold {threshold} are {word}\")\n",
    " \n",
    "filter_long_words(['fsdfds','fdsfs','ffdsfdsfds','df','fdsfggfdarerefdfdkgfdkgkfg'],10)"
   ]
  },
  {
   "cell_type": "markdown",
   "metadata": {},
   "source": [
    "### 2.1 Write a Python program using function concept that maps list of words into a list of integers\n",
    "### representing the lengths of the corresponding words.\n",
    "### Hint: If a list [ ab,cde,erty] is passed on to the python function output should come as [2,3,4]\n",
    "### Here 2,3 and 4 are the lengths of the words in the list."
   ]
  },
  {
   "cell_type": "code",
   "execution_count": 3,
   "metadata": {},
   "outputs": [
    {
     "name": "stdout",
     "output_type": "stream",
     "text": [
      "[3, 3, 5, 15]\n"
     ]
    }
   ],
   "source": [
    "length_list=[]\n",
    "length=0\n",
    "def list_lenght(list1):\n",
    "    for string in list1:\n",
    "        length=len(string)\n",
    "        length_list.append(length)\n",
    "    print(length_list)\n",
    "        \n",
    "list_lenght(['sds','dad','dadsd','ggfdgerdfed3432'])"
   ]
  },
  {
   "cell_type": "code",
   "execution_count": null,
   "metadata": {},
   "outputs": [],
   "source": []
  },
  {
   "cell_type": "code",
   "execution_count": null,
   "metadata": {},
   "outputs": [],
   "source": []
  },
  {
   "cell_type": "code",
   "execution_count": null,
   "metadata": {},
   "outputs": [],
   "source": []
  },
  {
   "cell_type": "code",
   "execution_count": null,
   "metadata": {},
   "outputs": [],
   "source": []
  },
  {
   "cell_type": "code",
   "execution_count": null,
   "metadata": {},
   "outputs": [],
   "source": []
  },
  {
   "cell_type": "code",
   "execution_count": null,
   "metadata": {},
   "outputs": [],
   "source": []
  }
 ],
 "metadata": {
  "kernelspec": {
   "display_name": "Python 3",
   "language": "python",
   "name": "python3"
  },
  "language_info": {
   "codemirror_mode": {
    "name": "ipython",
    "version": 3
   },
   "file_extension": ".py",
   "mimetype": "text/x-python",
   "name": "python",
   "nbconvert_exporter": "python",
   "pygments_lexer": "ipython3",
   "version": "3.8.3"
  }
 },
 "nbformat": 4,
 "nbformat_minor": 4
}
